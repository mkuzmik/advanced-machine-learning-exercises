{
 "cells": [
  {
   "cell_type": "code",
   "execution_count": 3,
   "metadata": {},
   "outputs": [],
   "source": [
    "from tensorflow import keras\n",
    "from keras.datasets import imdb\n",
    "\n",
    "(train_data, train_labels), (test_data, test_labels) = imdb.load_data(num_words=10000)"
   ]
  },
  {
   "cell_type": "code",
   "execution_count": 4,
   "metadata": {},
   "outputs": [],
   "source": [
    "import numpy as np\n",
    " \n",
    "def vectorize_sequences(sequences, dimension=10000):\n",
    "    # Create an all-zero matrix of shape (len(sequences), dimension)\n",
    "    results = np.zeros((len(sequences), dimension))\n",
    "    for i, sequence in enumerate(sequences):\n",
    "        results[i, sequence] = 1.  # set specific indices of results[i] to 1s\n",
    "    return results\n",
    " \n",
    "# Our vectorized training data\n",
    "x_train = vectorize_sequences(train_data)\n",
    "# Our vectorized test data\n",
    "x_test = vectorize_sequences(test_data)\n",
    "# Vectorize labels\n",
    "y_train = np.asarray(train_labels).astype('float32')\n",
    "y_test = np.asarray(test_labels).astype('float32')"
   ]
  },
  {
   "cell_type": "code",
   "execution_count": 9,
   "metadata": {},
   "outputs": [],
   "source": [
    "from keras import models\n",
    "from keras import layers\n",
    " \n",
    "network = models.Sequential()\n",
    "network.add(layers.Dense(16, activation='relu', input_shape=(10000,)))\n",
    "network.add(layers.Dense(16, activation='relu'))\n",
    "network.add(layers.Dense(1, activation='sigmoid'))\n",
    "\n",
    "network.compile(optimizer='rmsprop',\n",
    "                loss='binary_crossentropy',\n",
    "                metrics=['accuracy'])"
   ]
  },
  {
   "cell_type": "code",
   "execution_count": 19,
   "metadata": {},
   "outputs": [
    {
     "name": "stdout",
     "output_type": "stream",
     "text": [
      "Train on 15000 samples, validate on 10000 samples\n",
      "Epoch 1/20\n",
      "15000/15000 [==============================] - 1s 89us/step - loss: 0.0045 - accuracy: 0.9997 - val_loss: 0.7270 - val_accuracy: 0.8624\n",
      "Epoch 2/20\n",
      "15000/15000 [==============================] - 1s 88us/step - loss: 0.0066 - accuracy: 0.9989 - val_loss: 0.7581 - val_accuracy: 0.8625\n",
      "Epoch 3/20\n",
      "15000/15000 [==============================] - 1s 89us/step - loss: 0.0031 - accuracy: 0.9997 - val_loss: 0.7870 - val_accuracy: 0.8614\n",
      "Epoch 4/20\n",
      "15000/15000 [==============================] - 1s 89us/step - loss: 0.0064 - accuracy: 0.9981 - val_loss: 0.8271 - val_accuracy: 0.8595\n",
      "Epoch 5/20\n",
      "15000/15000 [==============================] - 1s 93us/step - loss: 0.0019 - accuracy: 0.9998 - val_loss: 0.8454 - val_accuracy: 0.8589\n",
      "Epoch 6/20\n",
      "15000/15000 [==============================] - 1s 93us/step - loss: 0.0016 - accuracy: 0.9998 - val_loss: 0.8915 - val_accuracy: 0.8573\n",
      "Epoch 7/20\n",
      "15000/15000 [==============================] - 1s 89us/step - loss: 0.0033 - accuracy: 0.9991 - val_loss: 0.9250 - val_accuracy: 0.8580\n",
      "Epoch 8/20\n",
      "15000/15000 [==============================] - 1s 91us/step - loss: 0.0010 - accuracy: 0.9999 - val_loss: 0.9569 - val_accuracy: 0.8567\n",
      "Epoch 9/20\n",
      "15000/15000 [==============================] - 1s 86us/step - loss: 0.0042 - accuracy: 0.9986 - val_loss: 1.0010 - val_accuracy: 0.8571\n",
      "Epoch 10/20\n",
      "15000/15000 [==============================] - 1s 88us/step - loss: 6.1797e-04 - accuracy: 0.9999 - val_loss: 1.0184 - val_accuracy: 0.8564\n",
      "Epoch 11/20\n",
      "15000/15000 [==============================] - 1s 86us/step - loss: 5.4236e-04 - accuracy: 0.9999 - val_loss: 1.0498 - val_accuracy: 0.8554\n",
      "Epoch 12/20\n",
      "15000/15000 [==============================] - 1s 87us/step - loss: 0.0039 - accuracy: 0.9990 - val_loss: 1.1134 - val_accuracy: 0.8571\n",
      "Epoch 13/20\n",
      "15000/15000 [==============================] - 1s 87us/step - loss: 3.2799e-04 - accuracy: 0.9999 - val_loss: 1.1187 - val_accuracy: 0.8553\n",
      "Epoch 14/20\n",
      "15000/15000 [==============================] - 1s 85us/step - loss: 2.8909e-04 - accuracy: 0.9999 - val_loss: 1.1463 - val_accuracy: 0.8555\n",
      "Epoch 15/20\n",
      "15000/15000 [==============================] - 1s 85us/step - loss: 2.4202e-04 - accuracy: 1.0000 - val_loss: 1.2332 - val_accuracy: 0.8537\n",
      "Epoch 16/20\n",
      "15000/15000 [==============================] - 1s 85us/step - loss: 0.0020 - accuracy: 0.9994 - val_loss: 1.2062 - val_accuracy: 0.8533\n",
      "Epoch 17/20\n",
      "15000/15000 [==============================] - 1s 85us/step - loss: 1.5475e-04 - accuracy: 1.0000 - val_loss: 1.2261 - val_accuracy: 0.8533\n",
      "Epoch 18/20\n",
      "15000/15000 [==============================] - 1s 84us/step - loss: 1.2998e-04 - accuracy: 1.0000 - val_loss: 1.2658 - val_accuracy: 0.8532\n",
      "Epoch 19/20\n",
      "15000/15000 [==============================] - 1s 84us/step - loss: 9.4675e-04 - accuracy: 0.9997 - val_loss: 1.3454 - val_accuracy: 0.8537\n",
      "Epoch 20/20\n",
      "15000/15000 [==============================] - 1s 84us/step - loss: 7.0054e-05 - accuracy: 1.0000 - val_loss: 1.3538 - val_accuracy: 0.8524\n"
     ]
    }
   ],
   "source": [
    "x_validation = x_train[15000:]\n",
    "y_validation = y_train[15000:]\n",
    "\n",
    "x_training = x_train[:15000]\n",
    "y_training = y_train[:15000]\n",
    "\n",
    "history = network.fit(x=x_training, y=y_training, batch_size=512, epochs=20, validation_data=(x_validation, y_validation))"
   ]
  },
  {
   "cell_type": "code",
   "execution_count": 20,
   "metadata": {},
   "outputs": [
    {
     "data": {
      "text/plain": [
       "dict_keys(['val_loss', 'val_accuracy', 'loss', 'accuracy'])"
      ]
     },
     "execution_count": 20,
     "metadata": {},
     "output_type": "execute_result"
    }
   ],
   "source": [
    "history_dict = history.history\n",
    "history_dict.keys()"
   ]
  },
  {
   "cell_type": "code",
   "execution_count": 28,
   "metadata": {},
   "outputs": [],
   "source": [
    "import matplotlib.pyplot as plt\n",
    "%matplotlib inline\n",
    "plt.style.use('seaborn-white')"
   ]
  },
  {
   "cell_type": "code",
   "execution_count": 36,
   "metadata": {},
   "outputs": [
    {
     "data": {
      "image/png": "[encoded data removed]",
      "text/plain": [
       "<Figure size 432x288 with 4 Axes>"
      ]
     },
     "metadata": {},
     "output_type": "display_data"
    }
   ],
   "source": [
    "history_dict['loss']\n",
    "\n",
    "fig = plt.figure()\n",
    "fig.subplots_adjust(hspace=0.4, wspace=0.4)\n",
    "\n",
    "plt.subplot(2, 2, 1)\n",
    "plt.title('loss')\n",
    "plt.plot(history_dict['loss'])\n",
    "plt.subplot(2, 2, 2)\n",
    "plt.title('val_loss')\n",
    "plt.plot(history_dict['val_loss'])\n",
    "plt.subplot(2, 2, 3)\n",
    "plt.title('accuracy')\n",
    "plt.plot(history_dict['accuracy'])\n",
    "plt.subplot(2, 2, 4)\n",
    "plt.title('val_accuracy')\n",
    "plt.plot(history_dict['val_accuracy'])\n",
    "\n",
    "plt.show()"
   ]
  },
  {
   "cell_type": "code",
   "execution_count": 38,
   "metadata": {},
   "outputs": [
    {
     "name": "stdout",
     "output_type": "stream",
     "text": [
      "25000/25000 [==============================] - 1s 29us/step\n",
      "test_loss:  1.4810553660535812 \n",
      "test_acc:  0.8364800214767456\n"
     ]
    }
   ],
   "source": [
    "test_loss, test_acc = network.evaluate(x_test, y_test)\n",
    " \n",
    "print('test_loss: ', test_loss, '\\ntest_acc: ', test_acc)"
   ]
  }
 ],
 "metadata": {
  "kernelspec": {
   "display_name": "Python 3",
   "language": "python",
   "name": "python3"
  },
  "language_info": {
   "codemirror_mode": {
    "name": "ipython",
    "version": 3
   },
   "file_extension": ".py",
   "mimetype": "text/x-python",
   "name": "python",
   "nbconvert_exporter": "python",
   "pygments_lexer": "ipython3",
   "version": "3.7.6"
  }
 },
 "nbformat": 4,
 "nbformat_minor": 4
}
